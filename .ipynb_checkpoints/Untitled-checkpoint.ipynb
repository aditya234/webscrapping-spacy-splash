{
 "cells": [
  {
   "cell_type": "code",
   "execution_count": 7,
   "metadata": {},
   "outputs": [],
   "source": [
    "import pandas as pd\n",
    "import numpy as np\n",
    "import matplotlib.pyplot as plt\n",
    "import json\n",
    "import math\n",
    "from hotel import Hotel, Restaurant, HotelList"
   ]
  },
  {
   "cell_type": "code",
   "execution_count": 15,
   "metadata": {},
   "outputs": [],
   "source": [
    "f1 = open('tokyo_hotels.json',\"r\")\n",
    "data1 = json.loads(f1.read())\n",
    "\n",
    "f2 = open('london_hotels.json',\"r\")\n",
    "data2 = json.loads(f2.read())\n",
    "\n",
    "f3 = open('singapore_hotels.json',\"r\")\n",
    "data3 = json.loads(f3.read())"
   ]
  },
  {
   "cell_type": "code",
   "execution_count": 16,
   "metadata": {},
   "outputs": [],
   "source": [
    "hotelList = HotelList()"
   ]
  },
  {
   "cell_type": "code",
   "execution_count": 17,
   "metadata": {},
   "outputs": [],
   "source": [
    "hotelList.add_city_data(json_data = data1, city = 'Tokyo')\n",
    "hotelList.add_city_data(json_data = data2, city = 'London')\n",
    "hotelList.add_city_data(json_data = data3, city = 'Singapore')"
   ]
  },
  {
   "cell_type": "code",
   "execution_count": 18,
   "metadata": {},
   "outputs": [
    {
     "ename": "TypeError",
     "evalue": "'>=' not supported between instances of 'NoneType' and 'float'",
     "output_type": "error",
     "traceback": [
      "\u001b[1;31m---------------------------------------------------------------------------\u001b[0m",
      "\u001b[1;31mTypeError\u001b[0m                                 Traceback (most recent call last)",
      "\u001b[1;32m<ipython-input-18-153ab22836c6>\u001b[0m in \u001b[0;36m<module>\u001b[1;34m\u001b[0m\n\u001b[1;32m----> 1\u001b[1;33m hotels = hotelList.getHotels(cities = ['Tokyo','London'], min_rating = 4.5, max_hotel_price = 2500, cuisines = ['Italian','Polish'],\n\u001b[0m\u001b[0;32m      2\u001b[0m                   \u001b[0mmin_nearby_places\u001b[0m \u001b[1;33m=\u001b[0m \u001b[1;36m50\u001b[0m\u001b[1;33m,\u001b[0m \u001b[0mmin_nearby_resturants\u001b[0m \u001b[1;33m=\u001b[0m \u001b[1;36m50\u001b[0m\u001b[1;33m,\u001b[0m \u001b[0mmin_total_reviews\u001b[0m \u001b[1;33m=\u001b[0m \u001b[1;36m50\u001b[0m\u001b[1;33m,\u001b[0m\u001b[1;33m\u001b[0m\u001b[1;33m\u001b[0m\u001b[0m\n\u001b[0;32m      3\u001b[0m                   amenities_list = [], languages = [], hotel_classes = [])\n",
      "\u001b[1;32m~\\Projects\\TripAdvisorScrap\\tripadvisor\\hotel.py\u001b[0m in \u001b[0;36mgetHotels\u001b[1;34m(self, cities, min_rating, max_hotel_price, cuisines, min_nearby_places, min_nearby_resturants, min_total_reviews, amenities_list, languages, hotel_classes)\u001b[0m\n\u001b[0;32m     76\u001b[0m         \u001b[0mtemp_hotels\u001b[0m \u001b[1;33m=\u001b[0m \u001b[0mself\u001b[0m\u001b[1;33m.\u001b[0m\u001b[0mhotels\u001b[0m\u001b[1;33m[\u001b[0m\u001b[1;33m:\u001b[0m\u001b[1;33m]\u001b[0m    \u001b[1;31m# copy by value\u001b[0m\u001b[1;33m\u001b[0m\u001b[1;33m\u001b[0m\u001b[0m\n\u001b[0;32m     77\u001b[0m         \u001b[1;32mfor\u001b[0m \u001b[0mhotel\u001b[0m \u001b[1;32min\u001b[0m \u001b[0mtemp_hotels\u001b[0m\u001b[1;33m:\u001b[0m\u001b[1;33m\u001b[0m\u001b[1;33m\u001b[0m\u001b[0m\n\u001b[1;32m---> 78\u001b[1;33m             if (hotel.city in cities) and (hotel.rating >= min_rating) and (hotel.best_price <= max_hotel_price) and (\n\u001b[0m\u001b[0;32m     79\u001b[0m                     \u001b[0mhotel\u001b[0m\u001b[1;33m.\u001b[0m\u001b[0mrestaurants_nearby\u001b[0m \u001b[1;33m>=\u001b[0m \u001b[0mmin_nearby_resturants\u001b[0m\u001b[1;33m)\u001b[0m \u001b[1;32mand\u001b[0m \u001b[1;33m(\u001b[0m\u001b[1;33m\u001b[0m\u001b[1;33m\u001b[0m\u001b[0m\n\u001b[0;32m     80\u001b[0m                     \u001b[0mhotel\u001b[0m\u001b[1;33m.\u001b[0m\u001b[0mattractions_nearby\u001b[0m \u001b[1;33m>=\u001b[0m \u001b[0mmin_nearby_places\u001b[0m\u001b[1;33m)\u001b[0m \u001b[1;32mand\u001b[0m \u001b[1;33m(\u001b[0m\u001b[1;33m\u001b[0m\u001b[1;33m\u001b[0m\u001b[0m\n",
      "\u001b[1;31mTypeError\u001b[0m: '>=' not supported between instances of 'NoneType' and 'float'"
     ]
    }
   ],
   "source": [
    "hotels = hotelList.getHotels(cities = ['Tokyo','London'], min_rating = 4.5, max_hotel_price = 2500, cuisines = ['Italian','Polish'],\n",
    "                  min_nearby_places = 50, min_nearby_resturants = 50, min_total_reviews = 50,\n",
    "                  amenities_list = [], languages = [], hotel_classes = [])"
   ]
  },
  {
   "cell_type": "code",
   "execution_count": null,
   "metadata": {},
   "outputs": [],
   "source": []
  }
 ],
 "metadata": {
  "kernelspec": {
   "display_name": "Python 3",
   "language": "python",
   "name": "python3"
  },
  "language_info": {
   "codemirror_mode": {
    "name": "ipython",
    "version": 3
   },
   "file_extension": ".py",
   "mimetype": "text/x-python",
   "name": "python",
   "nbconvert_exporter": "python",
   "pygments_lexer": "ipython3",
   "version": "3.8.3"
  }
 },
 "nbformat": 4,
 "nbformat_minor": 4
}
